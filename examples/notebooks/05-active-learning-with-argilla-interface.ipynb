{
 "cells": [
  {
   "cell_type": "markdown",
   "id": "nn8y7M13ulli",
   "metadata": {
    "id": "nn8y7M13ulli"
   },
   "source": [
    "# Active Learning in Small-Text with Argilla "
   ]
  },
  {
   "cell_type": "markdown",
   "id": "ed0b8b8e-8d52-4274-b26c-c4c254f9a8e6",
   "metadata": {},
   "source": [
    "*Notebook 5*"
   ]
  },
  {
   "cell_type": "markdown",
   "id": "5328c650-3354-4f45-80a6-e250726b052a",
   "metadata": {},
   "source": [
    "In this tutorial, we demonstrate how to use a small‑text active‑learning approach in combination with the [Argilla](https://argilla.io/) web interface. It uses a SetFit‑based classifier."
   ]
  },
  {
   "cell_type": "markdown",
   "id": "9ad8751e-ecee-47cf-92d8-3d2d0a756f98",
   "metadata": {},
   "source": [
    "## Overview\n",
    "\n",
    "- [Part I: Installation](#nb5-part1-installation)\n",
    "- [Part II: Data Preparation](#nb5-part2-data)\n",
    "- [Part III: Active Learning](#nb5-part3-al)\n",
    "- [Part IV: Evaluation](#nb5-part4-eval)"
   ]
  },
  {
   "cell_type": "markdown",
   "id": "NSN0aJOFKNhe",
   "metadata": {
    "id": "NSN0aJOFKNhe"
   },
   "source": [
    "<a id=\"nb5-part1-installation\"></a>\n",
    "## I Installation"
   ]
  },
  {
   "cell_type": "markdown",
   "id": "EObyEHqxhes8",
   "metadata": {
    "id": "EObyEHqxhes8"
   },
   "source": [
    "### Small-Text"
   ]
  },
  {
   "cell_type": "code",
   "execution_count": null,
   "id": "604e4ba8",
   "metadata": {},
   "outputs": [],
   "source": [
    "%pip install small-text[transformers]==2.0.0dev3\n",
    "# setfit is used as an optional dependency here\n",
    "%pip install setfit==1.1.2\n",
    "%pip install datasets==3.5.0"
   ]
  },
  {
   "cell_type": "code",
   "execution_count": null,
   "id": "d4d6f7fe-8960-46c4-a4e6-ceddcd30f0b3",
   "metadata": {},
   "outputs": [],
   "source": [
    "import datasets"
   ]
  },
  {
   "cell_type": "markdown",
   "id": "db622008-736c-441f-949c-eba22cfe22fe",
   "metadata": {},
   "source": [
    "### Argilla"
   ]
  },
  {
   "cell_type": "markdown",
   "id": "af4d8562-89d8-4c0c-b817-7e6d9f54baef",
   "metadata": {},
   "source": [
    "To be able to use the Argilla interface for active learning, we need a running Argilla instance. It can be started locally or provided by someone else over the network. Argilla provides two ways to get such an instance up and running:\n",
    "\n",
    "1. [Using Hugging Face Spaces](https://docs.argilla.io/latest/getting_started/quickstart/). For this you don't need to install additional software on your computer, but a Hugging Face Account is required.\n",
    "2. [Using Docker](https://docs.argilla.io/latest/getting_started/how-to-deploy-argilla-with-docker/). This allows for local deployments on your machine, but requires a [docker engine](https://docs.docker.com/get-started/get-docker/) on your machine.\n",
    "\n",
    "In the following, we assume that an Argilla instance is running locally at [http://localhost:6900 ](http://localhost:6900). In case you are using Hugging Face, you need to update the link to your space accordingly (see the [docs](https://docs.argilla.io/latest/getting_started/quickstart/#create-your-first-dataset))."
   ]
  },
  {
   "cell_type": "code",
   "execution_count": 3,
   "id": "4d3d19ee-f4e7-4042-a80c-5354fbd7372a",
   "metadata": {},
   "outputs": [],
   "source": [
    "# %pip install argilla\n",
    "import argilla as rg\n",
    "\n",
    "# connect to your Argilla instance\n",
    "client = rg.Argilla(\n",
    "    api_url=\"http://localhost:6900\", \n",
    "    api_key=\"argilla.apikey\" # default key in docker-compose script\n",
    ")"
   ]
  },
  {
   "cell_type": "markdown",
   "id": "e5766c6d-243a-44d8-bfa3-03d9a2793987",
   "metadata": {},
   "source": [
    "<a id=\"nb5-part2-data\"></a>\n",
    "# II Data"
   ]
  },
  {
   "cell_type": "markdown",
   "id": "19cf0586-6e9e-4db9-b475-0326d8c8d23b",
   "metadata": {},
   "source": [
    "We use the \"AG's News\" dataset for this demonstration. It consists of news articles which are categorized into four mutually exclusive classes."
   ]
  },
  {
   "cell_type": "code",
   "execution_count": 4,
   "id": "82d18071-95d1-4db0-a4fa-7b60b9a559f3",
   "metadata": {},
   "outputs": [
    {
     "name": "stdout",
     "output_type": "stream",
     "text": [
      "First 5 training samples:\n",
      "\n",
      "2   Wall St. Bears Claw Back Into the Black (Reuters) Reuters - Short-sellers, Wall Street's dwindling\\band of ultra-cynics, are seeing green again.\n",
      "2   Carlyle Looks Toward Commercial Aerospace (Reuters) Reuters - Private investment firm Carlyle Group,\\which has a reputation for making well-timed and occasionally\\controversial plays in the defense industry, has quietly placed\\its bets on another part of the market.\n",
      "2   Oil and Economy Cloud Stocks' Outlook (Reuters) Reuters - Soaring crude prices plus worries\\about the economy and the outlook for earnings are expected to\\hang over the stock market next week during the depth of the\\summer doldrums.\n",
      "2   Iraq Halts Oil Exports from Main Southern Pipeline (Reuters) Reuters - Authorities have halted oil export\\flows from the main pipeline in southern Iraq after\\intelligence showed a rebel militia could strike\\infrastructure, an oil official said on Saturday.\n",
      "2   Oil prices soar to all-time record, posing new menace to US economy (AFP) AFP - Tearaway world oil prices, toppling records and straining wallets, present a new economic menace barely three months before the US presidential elections.\n"
     ]
    }
   ],
   "source": [
    "raw_dataset = datasets.load_dataset('ag_news')\n",
    "\n",
    "print('First 5 training samples:\\n')\n",
    "for i in range(5):\n",
    "    print(raw_dataset['train']['label'][i], ' ', raw_dataset['train']['text'][i])"
   ]
  },
  {
   "cell_type": "markdown",
   "id": "925bfc9f-c2f1-44a7-8cba-527d14ef7b11",
   "metadata": {},
   "source": [
    "### Preparing the Data\n",
    "\n",
    "The SetFit Classifier uses the `TextData` structure as input. Such datasets can be easily created from raw text and labels using `TextDataset.from_arrays()`."
   ]
  },
  {
   "cell_type": "code",
   "execution_count": 5,
   "id": "b20bfb87-4893-4a68-8f63-4b38617fd80e",
   "metadata": {},
   "outputs": [],
   "source": [
    "import numpy as np\n",
    "from small_text import TextDataset\n",
    "\n",
    "num_classes = raw_dataset['train'].features['label'].num_classes\n",
    "\n",
    "target_labels = np.arange(num_classes)\n",
    "\n",
    "train = TextDataset.from_arrays(raw_dataset['train']['text'], np.array(raw_dataset['train']['label']), target_labels=target_labels)\n",
    "test = TextDataset.from_arrays(raw_dataset['test']['text'], np.array(raw_dataset['test']['label']), target_labels=target_labels)"
   ]
  },
  {
   "cell_type": "code",
   "execution_count": 6,
   "id": "b5642783-390d-4f57-9690-ced0b30c2411",
   "metadata": {},
   "outputs": [],
   "source": [
    "label_mapping = {'World': 0,\n",
    "                 'Sports': 1,\n",
    "                 'Business': 2,\n",
    "                 'Sci/Tech': 3}"
   ]
  },
  {
   "cell_type": "markdown",
   "id": "3fd642ff-e718-4754-aa77-c80365373a61",
   "metadata": {},
   "source": [
    "### Initialzing the Data in Argilla"
   ]
  },
  {
   "cell_type": "markdown",
   "id": "65260e7c",
   "metadata": {},
   "source": [
    "In Argilla we need to intialize the structure of our data once before we can push data to our Instance. To change the structure later a reinitialization is required."
   ]
  },
  {
   "cell_type": "code",
   "execution_count": 8,
   "id": "5550cc7a-e4ea-4da9-b024-946d8066ebab",
   "metadata": {},
   "outputs": [
    {
     "data": {
      "text/plain": [
       "Dataset(id=UUID('6ffcdaed-a35b-4232-bb7b-72ae44d499b7') inserted_at=datetime.datetime(2025, 9, 17, 11, 50, 49, 150319) updated_at=datetime.datetime(2025, 9, 17, 11, 50, 49, 269924) name='ags-news-active-learning' status='ready' guidelines='Argilla Test' allow_extra_metadata=False distribution=OverlapTaskDistributionModel(strategy='overlap', min_submitted=1) workspace_id=UUID('c0cca5f2-fd97-4375-8f7c-61e05c36dccc') last_activity_at=datetime.datetime(2025, 9, 17, 11, 50, 49, 269924))"
      ]
     },
     "execution_count": 8,
     "metadata": {},
     "output_type": "execute_result"
    }
   ],
   "source": [
    "# Choose a name for the dataset\n",
    "DATASET_NAME = f\"ags-news-active-learning\"\n",
    "\n",
    "# Define labeling schema\n",
    "settings = rg.Settings(\n",
    "    guidelines=\"Argilla Test\",\n",
    "    fields=[\n",
    "      # Text to be labeld\n",
    "      rg.TextField(\n",
    "        name = \"newsText\",\n",
    "        title = \"News Text.\",\n",
    "        use_markdown=False,\n",
    "      )\n",
    "    ],\n",
    "    questions=[\n",
    "      rg.LabelQuestion(\n",
    "          name=\"label\",\n",
    "          title=\"What category does the article belong to?\",\n",
    "          labels=list(label_mapping.keys()),\n",
    "      ),\n",
    "    ],\n",
    "    metadata=[\n",
    "        # later we only want to train on the latest batches\n",
    "        rg.IntegerMetadataProperty(\n",
    "            name=\"batch_id\",\n",
    "            min=0,\n",
    "            max=1000,\n",
    "            title=\"batch_id\"\n",
    "        ),\n",
    "    ],\n",
    ")\n",
    "\n",
    "# Create dataset with a label schema\n",
    "dataset = rg.Dataset(\n",
    "    name=DATASET_NAME,\n",
    "    settings=settings,\n",
    ")\n",
    "dataset.create()"
   ]
  },
  {
   "cell_type": "markdown",
   "id": "7b7d40f7-cdbd-4539-9843-5e530d1a82b6",
   "metadata": {},
   "source": [
    "<a id=\"nb5-part3-al\"></a>\n",
    "## III Active Learning"
   ]
  },
  {
   "cell_type": "markdown",
   "id": "9da60e8d-cc3e-43f0-b714-52131da70d27",
   "metadata": {},
   "source": [
    "### Configuring the Classifier"
   ]
  },
  {
   "cell_type": "code",
   "execution_count": 9,
   "id": "2dada206-8d16-40f4-af81-f359a6beae05",
   "metadata": {},
   "outputs": [],
   "source": [
    "from small_text.integrations.transformers.classifiers.setfit import SetFitModelArguments\n",
    "from small_text.integrations.transformers.classifiers.factories import SetFitClassificationFactory\n",
    "\n",
    "num_classes = 4\n",
    "\n",
    "sentence_transformer_model_name = 'sentence-transformers/paraphrase-mpnet-base-v2' \n",
    "setfit_model_args = SetFitModelArguments(sentence_transformer_model_name, show_progress_bar=False)\n",
    "clf_factory = SetFitClassificationFactory(setfit_model_args, num_classes)"
   ]
  },
  {
   "cell_type": "markdown",
   "id": "a0e8ea1f-f258-4887-a350-6688cfa8f2ec",
   "metadata": {},
   "source": [
    "### Setting up the Active Learner"
   ]
  },
  {
   "cell_type": "markdown",
   "id": "16bedde0-bf5c-4b32-a91b-26f71036178b",
   "metadata": {},
   "source": [
    "Here, we construct a `PoolBasedActiveLearner` instance which requires a classifier factory, a query strategy, and the train dataset.\n",
    "\n",
    "To obtain a first model, we initialize the active learner by providing the true labels for 20 sentences. This corresponds to an initial labeling in the real-world setting. The initial labels could also be obtained via Argilla, applying the same logic that will be demonstrated by the following code."
   ]
  },
  {
   "cell_type": "code",
   "execution_count": 10,
   "id": "a0ad0602-a375-4070-8593-5170fcb8a1d9",
   "metadata": {},
   "outputs": [
    {
     "name": "stderr",
     "output_type": "stream",
     "text": [
      "model_head.pkl not found on HuggingFace Hub, initialising classification head with random weights. You should TRAIN this model on a downstream task to use it for predictions and inference.\n",
      "Map: 100%|██████████| 20/20 [00:00<00:00, 3225.40 examples/s]\n",
      "***** Running training *****\n",
      "  Num unique pairs = 300\n",
      "  Batch size = 16\n",
      "  Num epochs = 1\n"
     ]
    },
    {
     "data": {
      "text/html": [
       "\n",
       "    <div>\n",
       "      \n",
       "      <progress value='19' max='19' style='width:300px; height:20px; vertical-align: middle;'></progress>\n",
       "      [19/19 00:10, Epoch 1/1]\n",
       "    </div>\n",
       "    <table border=\"1\" class=\"dataframe\">\n",
       "  <thead>\n",
       " <tr style=\"text-align: left;\">\n",
       "      <th>Step</th>\n",
       "      <th>Training Loss</th>\n",
       "    </tr>\n",
       "  </thead>\n",
       "  <tbody>\n",
       "    <tr>\n",
       "      <td>1</td>\n",
       "      <td>0.351400</td>\n",
       "    </tr>\n",
       "  </tbody>\n",
       "</table><p>"
      ],
      "text/plain": [
       "<IPython.core.display.HTML object>"
      ]
     },
     "metadata": {},
     "output_type": "display_data"
    }
   ],
   "source": [
    "from small_text import (\n",
    "    PoolBasedActiveLearner, \n",
    "    random_initialization_balanced,\n",
    "    BreakingTies,\n",
    "    SubsamplingQueryStrategy\n",
    ")\n",
    "\n",
    "# define a query strategy and initialize a pool-based active learner\n",
    "query_strategy = SubsamplingQueryStrategy(BreakingTies())\n",
    "active_learner = PoolBasedActiveLearner(clf_factory, query_strategy, train)\n",
    "\n",
    "\n",
    "# simulate a warm start\n",
    "def initialize_active_learner(active_learner, y_train):\n",
    "\n",
    "    indices_initial = random_initialization_balanced(y_train, n_samples=20)\n",
    "    active_learner.initialize(indices_initial)\n",
    "\n",
    "    return indices_initial\n",
    "\n",
    "\n",
    "initial_indices = initialize_active_learner(active_learner, train.y)\n",
    "labeled_indices = initial_indices"
   ]
  },
  {
   "cell_type": "markdown",
   "id": "4fb73cc7-6b50-4468-b55f-792acf755379",
   "metadata": {},
   "source": [
    "### Evaluation Strategy\n",
    "\n",
    "The main active learning loop queries the unlabeled pool and thereby decides which documents are labeled next. We then provide the labels for those documents and the active learner retrains the model. After each query, we evaluate the current model against the test set and save the result."
   ]
  },
  {
   "cell_type": "code",
   "execution_count": 11,
   "id": "b1a6c966-fa65-4789-8232-c954f089e2fb",
   "metadata": {},
   "outputs": [
    {
     "name": "stdout",
     "output_type": "stream",
     "text": [
      "Train accuracy: 1.00\n",
      "Test accuracy: 0.81\n"
     ]
    }
   ],
   "source": [
    "import gc\n",
    "import torch\n",
    "from sklearn.metrics import accuracy_score\n",
    "\n",
    "current_batch_id = 0\n",
    "\n",
    "def evaluate(active_learner, train, test):\n",
    "    y_pred = active_learner.classifier.predict(train)\n",
    "    y_pred_test = active_learner.classifier.predict(test)\n",
    "    \n",
    "    test_acc = accuracy_score(y_pred_test, test.y)\n",
    "\n",
    "    print(f'Train accuracy: {accuracy_score(y_pred, train.y):.2f}')\n",
    "    print(f'Test accuracy: {test_acc:.2f}')\n",
    "    \n",
    "    return test_acc\n",
    "\n",
    "\n",
    "results_setfit = []\n",
    "results_setfit.append(evaluate(active_learner, train[labeled_indices], test))"
   ]
  },
  {
   "cell_type": "markdown",
   "id": "75a27d25-7cb8-4875-b5c7-5a2bfe215d79",
   "metadata": {},
   "source": [
    "### Active Learning Loop\n",
    "\n",
    "In each iteration, all queried examples must be labeld inside Argilla. "
   ]
  },
  {
   "cell_type": "code",
   "execution_count": 12,
   "id": "a02580d0-6cd1-4668-9081-43a7ac60931a",
   "metadata": {},
   "outputs": [],
   "source": [
    "# Helper function to map the answer codes back to the numerical labels \n",
    "def get_answr_codes(records):\n",
    "    \n",
    "    y_label = [record[\"label.responses\"] for record in records]\n",
    "    y = [label_mapping[label[0]] for label in y_label]\n",
    "    \n",
    "    return y"
   ]
  },
  {
   "cell_type": "markdown",
   "id": "363a08d3",
   "metadata": {},
   "source": [
    "The two following cells will be executed in sequence as long as you want to keep training your classifier. Each time you execute the first cell, you need to move over to Argilla to annotate the current batch. If you have labeled all examples, you can retrain the classifier, and so on. For intermediate evaluations, you can execute the code in the next section to see how well your classifier performs already."
   ]
  },
  {
   "cell_type": "markdown",
   "id": "eef331a8",
   "metadata": {},
   "source": [
    "<img src=\"data:image/svg+xml;base64,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\"/>"
   ]
  },
  {
   "cell_type": "markdown",
   "id": "fdfa6a18-5f37-4b37-87a5-73621c62e21a",
   "metadata": {},
   "source": [
    "*Logging the current batch to Argilla for Annotation.*"
   ]
  },
  {
   "cell_type": "code",
   "execution_count": 17,
   "id": "a785ddab-2f2c-4bc3-bba4-fc0623b87a96",
   "metadata": {},
   "outputs": [
    {
     "data": {
      "text/html": [
       "<pre style=\"white-space:pre;overflow-x:auto;line-height:normal;font-family:Menlo,'DejaVu Sans Mono',consolas,'Courier New',monospace\">DatasetRecords: The provided batch size <span style=\"color: #008080; text-decoration-color: #008080; font-weight: bold\">256</span> was normalized. Using value <span style=\"color: #008080; text-decoration-color: #008080; font-weight: bold\">20</span>.\n",
       "</pre>\n"
      ],
      "text/plain": [
       "DatasetRecords: The provided batch size \u001b[1;36m256\u001b[0m was normalized. Using value \u001b[1;36m20\u001b[0m.\n"
      ]
     },
     "metadata": {},
     "output_type": "display_data"
    },
    {
     "name": "stderr",
     "output_type": "stream",
     "text": [
      "Sending records...: 100%|██████████| 1/1 [00:00<00:00,  3.12batch/s]\n"
     ]
    },
    {
     "data": {
      "text/plain": [
       "DatasetRecords(Dataset(id=UUID('6ffcdaed-a35b-4232-bb7b-72ae44d499b7') inserted_at=datetime.datetime(2025, 9, 17, 11, 50, 49, 150319) updated_at=datetime.datetime(2025, 9, 17, 11, 50, 49, 269924) name='ags-news-active-learning' status='ready' guidelines='Argilla Test' allow_extra_metadata=False distribution=OverlapTaskDistributionModel(strategy='overlap', min_submitted=1) workspace_id=UUID('c0cca5f2-fd97-4375-8f7c-61e05c36dccc') last_activity_at=datetime.datetime(2025, 9, 17, 11, 50, 49, 269924)))"
      ]
     },
     "execution_count": 17,
     "metadata": {},
     "output_type": "execute_result"
    }
   ],
   "source": [
    "# ...where each iteration consists of labelling 20 samples\n",
    "q_indices = active_learner.query(num_samples=20)\n",
    "\n",
    "records = [\n",
    "    rg.Record(\n",
    "        fields={\n",
    "            \"newsText\": row.get(\"text\", \"\")\n",
    "        },\n",
    "        metadata={\"batch_id\": current_batch_id}\n",
    "    )\n",
    "    for i, row in enumerate(raw_dataset[\"train\"])       # stream rows\n",
    "    if i in q_indices                                   # keep only wanted rows\n",
    "]\n",
    "\n",
    "# keep record ids to reconstruct original order on retrieve\n",
    "rec_ids = [str(rec.id) for rec in records]\n",
    "\n",
    "# Log records to Argilla\n",
    "dataset.records.log(records)"
   ]
  },
  {
   "cell_type": "markdown",
   "id": "08be926c-7820-4ec5-8cbc-85f366d9f98b",
   "metadata": {},
   "source": [
    "*Retraining the Classifier*"
   ]
  },
  {
   "cell_type": "code",
   "execution_count": 18,
   "id": "e3656be9-bd9c-47df-bf3e-f967ab334d05",
   "metadata": {},
   "outputs": [
    {
     "name": "stderr",
     "output_type": "stream",
     "text": [
      "model_head.pkl not found on HuggingFace Hub, initialising classification head with random weights. You should TRAIN this model on a downstream task to use it for predictions and inference.\n",
      "Map: 100%|██████████| 80/80 [00:00<00:00, 7717.74 examples/s]\n",
      "***** Running training *****\n",
      "  Num unique pairs = 4738\n",
      "  Batch size = 16\n",
      "  Num epochs = 1\n"
     ]
    },
    {
     "data": {
      "text/html": [
       "\n",
       "    <div>\n",
       "      \n",
       "      <progress value='297' max='297' style='width:300px; height:20px; vertical-align: middle;'></progress>\n",
       "      [297/297 01:09, Epoch 1/1]\n",
       "    </div>\n",
       "    <table border=\"1\" class=\"dataframe\">\n",
       "  <thead>\n",
       " <tr style=\"text-align: left;\">\n",
       "      <th>Step</th>\n",
       "      <th>Training Loss</th>\n",
       "    </tr>\n",
       "  </thead>\n",
       "  <tbody>\n",
       "    <tr>\n",
       "      <td>1</td>\n",
       "      <td>0.123500</td>\n",
       "    </tr>\n",
       "    <tr>\n",
       "      <td>50</td>\n",
       "      <td>0.268400</td>\n",
       "    </tr>\n",
       "    <tr>\n",
       "      <td>100</td>\n",
       "      <td>0.182000</td>\n",
       "    </tr>\n",
       "    <tr>\n",
       "      <td>150</td>\n",
       "      <td>0.098000</td>\n",
       "    </tr>\n",
       "    <tr>\n",
       "      <td>200</td>\n",
       "      <td>0.011500</td>\n",
       "    </tr>\n",
       "    <tr>\n",
       "      <td>250</td>\n",
       "      <td>0.002600</td>\n",
       "    </tr>\n",
       "  </tbody>\n",
       "</table><p>"
      ],
      "text/plain": [
       "<IPython.core.display.HTML object>"
      ]
     },
     "metadata": {},
     "output_type": "display_data"
    },
    {
     "name": "stdout",
     "output_type": "stream",
     "text": [
      "---------------\n",
      "Iteration #4 (80 samples)\n",
      "Train accuracy: 0.49\n",
      "Test accuracy: 0.43\n"
     ]
    }
   ],
   "source": [
    "# retrieve annotated examples\n",
    "status_filter = rg.Query(filter=rg.Filter([(\"response.status\", \"==\", \"submitted\"),\n",
    "                                           (\"metadata.batch_id\", \"==\", current_batch_id)]))\n",
    "submitted_list = dataset.records(status_filter).to_list(flatten=True)\n",
    "\n",
    "# restore original ordering\n",
    "record_lookup = {rec['id']: rec for rec in submitted_list} \n",
    "ordered_records = [record_lookup[str(uid)] for uid in rec_ids if str(uid) in record_lookup]\n",
    "\n",
    "# mapping labels to numbers \n",
    "y = np.array(get_answr_codes(ordered_records))\n",
    "\n",
    "# Return the labels for the current query to the active learner.\n",
    "active_learner.update(y)\n",
    "\n",
    "# memory fix: https://github.com/UKPLab/sentence-transformers/issues/1793\n",
    "gc.collect()\n",
    "torch.cuda.empty_cache()\n",
    "\n",
    "labeled_indices = np.concatenate([q_indices, labeled_indices])\n",
    "\n",
    "current_batch_id+=1\n",
    "\n",
    "print('---------------')\n",
    "print(f'Iteration #{i:d} ({len(labeled_indices)} samples)')\n",
    "results_setfit.append(evaluate(active_learner, train[labeled_indices], test))"
   ]
  },
  {
   "cell_type": "markdown",
   "id": "696e01fb-c652-4407-af3e-8fd48cda4198",
   "metadata": {},
   "source": [
    "<a id=\"nb5-part4-eval\"></a>\n",
    "## IV Evaluation"
   ]
  },
  {
   "cell_type": "code",
   "execution_count": 35,
   "id": "b0ae1ccb-0cb2-4d79-8f55-a564e9e42ad3",
   "metadata": {},
   "outputs": [
    {
     "data": {
      "text/plain": [
       "Text(0.5, 0, 'number of batches')"
      ]
     },
     "execution_count": 35,
     "metadata": {},
     "output_type": "execute_result"
    },
    {
     "data": {
      "image/png": "[encoded data removed]",
      "text/plain": [
       "<Figure size 1200x800 with 1 Axes>"
      ]
     },
     "metadata": {},
     "output_type": "display_data"
    }
   ],
   "source": [
    "#%matplotlib inline\n",
    "import matplotlib.pyplot as plt;\n",
    "\n",
    "fig = plt.figure(figsize=(12, 8))\n",
    "ax = plt.axes()\n",
    "\n",
    "ax.plot(np.arange(current_batch_id+1), results_setfit, label='SetFit')\n",
    "ax.legend()\n",
    "\n",
    "plt.ylabel('accuracy')\n",
    "plt.xlabel('number of batches')\n",
    "\n",
    "display(plt)"
   ]
  },
  {
   "cell_type": "code",
   "execution_count": 45,
   "id": "2713e892-179d-4966-8e85-721bf513c162",
   "metadata": {},
   "outputs": [
    {
     "name": "stdout",
     "output_type": "stream",
     "text": [
      "accelerate==1.6.0\n",
      "aiohappyeyeballs==2.6.1\n",
      "aiohttp==3.11.16\n",
      "aiosignal==1.3.2\n",
      "annotated-types==0.7.0\n",
      "anyio==4.9.0\n",
      "argilla==2.8.0\n",
      "asttokens==3.0.0\n",
      "async-timeout==5.0.1\n",
      "attrs==25.3.0\n",
      "certifi==2025.1.31\n",
      "charset-normalizer==3.4.1\n",
      "comm==0.2.2\n",
      "contourpy==1.3.2\n",
      "cycler==0.12.1\n",
      "datasets==3.5.0\n",
      "debugpy==1.8.14\n",
      "decorator==5.2.1\n",
      "Deprecated==1.2.18\n",
      "dill==0.3.8\n",
      "evaluate==0.4.3\n",
      "exceptiongroup==1.2.2\n",
      "executing==2.2.0\n",
      "filelock==3.18.0\n",
      "fonttools==4.57.0\n",
      "frozenlist==1.5.0\n",
      "fsspec==2024.12.0\n",
      "h11==0.14.0\n",
      "httpcore==1.0.8\n",
      "httpx==0.28.1\n",
      "huggingface-hub==0.30.2\n",
      "idna==3.10\n",
      "ipykernel==6.29.5\n",
      "ipython==8.35.0\n",
      "jedi==0.19.2\n",
      "Jinja2==3.1.6\n",
      "joblib==1.4.2\n",
      "jupyter_client==8.6.3\n",
      "jupyter_core==5.7.2\n",
      "kiwisolver==1.4.8\n",
      "markdown-it-py==3.0.0\n",
      "MarkupSafe==3.0.2\n",
      "matplotlib==3.10.1\n",
      "matplotlib-inline==0.1.7\n",
      "mdurl==0.1.2\n",
      "mpmath==1.3.0\n",
      "multidict==6.4.3\n",
      "multiprocess==0.70.16\n",
      "nest-asyncio==1.6.0\n",
      "networkx==3.4.2\n",
      "numpy==1.26.4\n",
      "nvidia-cublas-cu12==12.4.5.8\n",
      "nvidia-cuda-cupti-cu12==12.4.127\n",
      "nvidia-cuda-nvrtc-cu12==12.4.127\n",
      "nvidia-cuda-runtime-cu12==12.4.127\n",
      "nvidia-cudnn-cu12==9.1.0.70\n",
      "nvidia-cufft-cu12==11.2.1.3\n",
      "nvidia-curand-cu12==10.3.5.147\n",
      "nvidia-cusolver-cu12==11.6.1.9\n",
      "nvidia-cusparse-cu12==12.3.1.170\n",
      "nvidia-cusparselt-cu12==0.6.2\n",
      "nvidia-nccl-cu12==2.21.5\n",
      "nvidia-nvjitlink-cu12==12.4.127\n",
      "nvidia-nvtx-cu12==12.4.127\n",
      "packaging==24.2\n",
      "pandas==2.2.3\n",
      "parso==0.8.4\n",
      "pexpect==4.9.0\n",
      "pillow==11.2.1\n",
      "platformdirs==4.3.7\n",
      "prompt_toolkit==3.0.51\n",
      "propcache==0.3.1\n",
      "psutil==7.0.0\n",
      "ptyprocess==0.7.0\n",
      "pure_eval==0.2.3\n",
      "pyarrow==19.0.1\n",
      "pydantic==2.11.3\n",
      "pydantic_core==2.33.1\n",
      "Pygments==2.19.1\n",
      "pyparsing==3.2.3\n",
      "python-dateutil==2.9.0.post0\n",
      "pytz==2025.2\n",
      "PyYAML==6.0.2\n",
      "pyzmq==26.4.0\n",
      "regex==2024.11.6\n",
      "requests==2.32.3\n",
      "rich==14.0.0\n",
      "safetensors==0.5.3\n",
      "scikit-learn==1.6.1\n",
      "scipy==1.15.2\n",
      "seaborn==0.13.2\n",
      "sentence-transformers==3.4.1\n",
      "setfit==1.1.2\n",
      "six==1.17.0\n",
      "small-text==2.0.0.dev3\n",
      "sniffio==1.3.1\n",
      "stack-data==0.6.3\n",
      "standardwebhooks==1.0.0\n",
      "sympy==1.13.1\n",
      "threadpoolctl==3.6.0\n",
      "tokenizers==0.21.1\n",
      "tomli==2.2.1\n",
      "torch==2.6.0\n",
      "torchaudio==2.6.0\n",
      "torchvision==0.21.0\n",
      "tornado==6.4.2\n",
      "tqdm==4.67.1\n",
      "traitlets==5.14.3\n",
      "transformers==4.51.3\n",
      "triton==3.2.0\n",
      "types-Deprecated==1.2.15.20250304\n",
      "types-python-dateutil==2.9.0.20241206\n",
      "typing-inspection==0.4.0\n",
      "typing_extensions==4.13.2\n",
      "tzdata==2025.2\n",
      "urllib3==2.4.0\n",
      "wcwidth==0.2.13\n",
      "wrapt==1.17.2\n",
      "xxhash==3.5.0\n",
      "yarl==1.20.0\n",
      "Note: you may need to restart the kernel to use updated packages.\n"
     ]
    }
   ],
   "source": [
    "%pip freeze"
   ]
  }
 ],
 "metadata": {
  "colab": {
   "provenance": []
  },
  "gpuClass": "standard",
  "kernelspec": {
   "display_name": "Python (SetFit Env)",
   "language": "python",
   "name": "setfit_env"
  },
  "language_info": {
   "codemirror_mode": {
    "name": "ipython",
    "version": 3
   },
   "file_extension": ".py",
   "mimetype": "text/x-python",
   "name": "python",
   "nbconvert_exporter": "python",
   "pygments_lexer": "ipython3",
   "version": "3.10.17"
  },
  "vscode": {
   "interpreter": {
    "hash": "6c6ac5964d63158aef0c318a650c56c288100fe36867cf6a65be3eefaa97102a"
   }
  },
  "widgets": {
   "application/vnd.jupyter.widget-state+json": {
    "state": {},
    "version_major": 2,
    "version_minor": 0
   }
  }
 },
 "nbformat": 4,
 "nbformat_minor": 5
}
